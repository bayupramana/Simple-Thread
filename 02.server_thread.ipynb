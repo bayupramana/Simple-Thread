{
 "cells": [
  {
   "cell_type": "code",
   "execution_count": 1,
   "metadata": {},
   "outputs": [],
   "source": [
    "# import socket, sys, traceback dan threading\n",
    "import socket\n",
    "import sys\n",
    "import traceback\n",
    "from threading import Thread"
   ]
  },
  {
   "cell_type": "code",
   "execution_count": 2,
   "metadata": {},
   "outputs": [],
   "source": [
    "# jalankan server\n",
    "def main():\n",
    "    start_server()"
   ]
  },
  {
   "cell_type": "code",
   "execution_count": 3,
   "metadata": {},
   "outputs": [],
   "source": [
    "# fungsi saat server dijalankan\n",
    "def start_server():\n",
    "    # tentukan IP server\n",
    "    HOST = \"192.168.1.6\"\n",
    "    \n",
    "    # tentukan port server\n",
    "    PORT = 8080\n",
    "\n",
    "    # buat socket bertipe TCP\n",
    "    soc = socket.socket(socket.AF_INET, socket.SOCK_STREAM)\n",
    "    \n",
    "    # option socket\n",
    "    soc.setsockopt(socket.SOL_SOCKET, socket.SO_REUSEADDR, 1)\n",
    "    print(\"Socket dibuat\")\n",
    "\n",
    "    # lakukan bind\n",
    "    try:\n",
    "        soc.bind((HOST, PORT))\n",
    "    except:\n",
    "        # exit pada saat error\n",
    "        print(\"Bind gagal. Error : \" + str(sys.exc_info()))\n",
    "        sys.exit()\n",
    "\n",
    "    # listen hingga 5 antrian\n",
    "    soc.listen(5)\n",
    "    print(\"Socket mendengarkan\")\n",
    "\n",
    "    # infinite loop, jangan reset setiap ada request\n",
    "    while True:\n",
    "        # terima koneksi\n",
    "        conn, addr = soc.accept()\n",
    "        \n",
    "        # dapatkan IP dan port\n",
    "        ip = str(addr[0])\n",
    "        port = str(addr[1])\n",
    "        print(\"Connected dengan \" + ip + \":\" +port)\n",
    "\n",
    "        # jalankan thread untuk setiap koneksi yang terhubung\n",
    "        try:\n",
    "            Thread(target=client_thread, args=(conn,ip,port)).start()\n",
    "        except:\n",
    "            # print kesalahan jika thread tidak berhasil dijalankan\n",
    "            print(\"Thread tidak berjalan.\")\n",
    "            traceback.print_exc()\n",
    "\n",
    "    # tutup socket\n",
    "    soc.close"
   ]
  },
  {
   "cell_type": "code",
   "execution_count": 4,
   "metadata": {},
   "outputs": [],
   "source": [
    "def client_thread(connection, ip, port, max_buffer_size = 4096):\n",
    "    # flag koneksi\n",
    "    is_active = True\n",
    "\n",
    "    # selama koneksi aktif\n",
    "    while is_active:\n",
    "\n",
    "        # terima pesan dari client\n",
    "        client_message = connection.recv(max_buffer_size)\n",
    "        \n",
    "        # dapatkan ukuran pesan\n",
    "        client_input_size = sys.getsizeof(client_message)\n",
    "        \n",
    "        # print jika pesan terlalu besar\n",
    "        if client_input_size > max_buffer_size:\n",
    "            print(\"The input size is greater than expected {}\")\n",
    "\n",
    "        # dapatkan pesan setelah didecode\n",
    "        decode_messsage = client_message.decode('utf8').rstrip()\n",
    "        client_message =str(decode_messsage)\n",
    "        \n",
    "        # jika \"quit\" maka flag koneksi = false, matikan koneksi\n",
    "        if \"quit\" in client_message:\n",
    "            # ubah flag\n",
    "            is_active = False\n",
    "            print(\"Client meminta keluar\")\n",
    "            \n",
    "            # matikan koneksi\n",
    "            connection.close()\n",
    "            print(\"Connection \" + ip + \":\" + str(port) + \" ditutup\") \n",
    "        else:\n",
    "            # tampilkan pesan dari client  \n",
    "            print(client_message) "
   ]
  },
  {
   "cell_type": "code",
   "execution_count": null,
   "metadata": {},
   "outputs": [
    {
     "name": "stdout",
     "output_type": "stream",
     "text": [
      "Socket dibuat\n",
      "Socket mendengarkan\n",
      "Connected dengan 192.168.1.6:51920\n",
      "halo\n",
      "cek\n",
      "ini client 1\n",
      "Client meminta keluar\n",
      "Connection 192.168.1.6:51920 ditutup\n",
      "Connected dengan 192.168.1.6:51927\n",
      "haloo\n",
      "ini pesan client 2\n",
      "Client meminta keluar\n",
      "Connection 192.168.1.6:51927 ditutup\n",
      "Connected dengan 192.168.1.6:51933\n",
      "halooo\n",
      "ini pesan client ketiga\n",
      "Client meminta keluar\n",
      "Connection 192.168.1.6:51933 ditutup\n"
     ]
    }
   ],
   "source": [
    "# panggil fungsi utama\n",
    "if __name__ == \"__main__\":\n",
    "    main()"
   ]
  },
  {
   "cell_type": "code",
   "execution_count": null,
   "metadata": {},
   "outputs": [],
   "source": []
  }
 ],
 "metadata": {
  "kernelspec": {
   "display_name": "Python 3",
   "language": "python",
   "name": "python3"
  },
  "language_info": {
   "codemirror_mode": {
    "name": "ipython",
    "version": 3
   },
   "file_extension": ".py",
   "mimetype": "text/x-python",
   "name": "python",
   "nbconvert_exporter": "python",
   "pygments_lexer": "ipython3",
   "version": "3.7.3"
  }
 },
 "nbformat": 4,
 "nbformat_minor": 2
}
