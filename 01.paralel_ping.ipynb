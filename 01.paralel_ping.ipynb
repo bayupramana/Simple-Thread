{
 "cells": [
  {
   "cell_type": "code",
   "execution_count": 13,
   "metadata": {},
   "outputs": [],
   "source": [
    "# import os, re dan threading\n",
    "import os, re, threading\n",
    "\n",
    "# import time\n",
    "import time"
   ]
  },
  {
   "cell_type": "code",
   "execution_count": 14,
   "metadata": {},
   "outputs": [],
   "source": [
    "# buat kelas ip_check\n",
    "class ip_check(threading.Thread):\n",
    "    # fungsi __init__; init untuk assign IP dan hasil respons = -1\n",
    "    def __init__ (self,ip):\n",
    "        threading.Thread.__init__(self)\n",
    "        self.ip = ip\n",
    "        self.__successful_pings = -1\n",
    "    # fungsi utama yang diekseskusi ketika thread berjalan\n",
    "    def run(self):\n",
    "        # lakukan ping dengan perintah ping -n (gunakan os.popen())\n",
    "        ping_out = os.popen(\"ping -n 2 \" +ip,\"r\")\n",
    "\n",
    "        # loop forever\n",
    "        while True:\n",
    "            # baca hasil respon setiap baris\n",
    "            line = ping_out.readline()\n",
    "            \n",
    "            \n",
    "            # break jika tidak ada line lagi\n",
    "            if not line : break\n",
    "            \n",
    "            # baca hasil per line dan temukan pola Received = x\n",
    "            n_received = re.findall(paket_diterima,line)\n",
    "            \n",
    "            \n",
    "            # tampilkan hasilnya\n",
    "            if n_received:\n",
    "                self.__successful_pings = int(n_received[0])\n",
    "                          \n",
    "    # fungsi untuk mengetahui status; 0 = tidak ada respon, 1 = hidup tapi ada loss, 2 = hidup\n",
    "    def status(self):\n",
    "        # 0 = tidak ada respon\n",
    "        if self.__successful_pings == 0:\n",
    "            return \"tidak ada respon\"\n",
    "        \n",
    "        # 1 = ada loss\n",
    "        elif self.__successful_pings == 1:\n",
    "            return \"ada loss\"\n",
    "\n",
    "        # 2 = hidup\n",
    "        elif self.__successful_pings == 2:\n",
    "            return \"hidup\"\n",
    "        \n",
    "        # -1 = seharusnya tidak terjadi\n",
    "        else:\n",
    "            return \"seharusnya tidak terjadi\""
   ]
  },
  {
   "cell_type": "code",
   "execution_count": 15,
   "metadata": {},
   "outputs": [],
   "source": [
    "# buat regex untuk mengetahui isi dari r\"Received = (\\d)\"\n",
    "paket_diterima = re.compile(r\"Received = (\\d)\")\n",
    "\n",
    "\n",
    "# catat waktu awal\n",
    "waktu_awal = time.time()\n",
    "\n",
    "# buat list untuk menampung hasil pengecekan\n",
    "check_results = []\n"
   ]
  },
  {
   "cell_type": "code",
   "execution_count": 16,
   "metadata": {},
   "outputs": [],
   "source": [
    "# lakukan ping untuk 20 host\n",
    "for suffix in range(20):\n",
    "    # tentukan IP host apa saja yang akan di ping\n",
    "    ip = \"192.168.1.\"+str(suffix)\n",
    "    \n",
    "    # panggil thread untuk setiap IP\n",
    "    thread = ip_check(ip)\n",
    "    \n",
    "    # masukkan setiap IP dalam list\n",
    "    check_results.append(thread)\n",
    "    \n",
    "    # jalankan thread\n",
    "    thread.start()"
   ]
  },
  {
   "cell_type": "code",
   "execution_count": 17,
   "metadata": {},
   "outputs": [
    {
     "name": "stdout",
     "output_type": "stream",
     "text": [
      "status from  192.168.1.0 hidup\n",
      "status from  192.168.1.1 hidup\n",
      "status from  192.168.1.2 hidup\n",
      "status from  192.168.1.3 hidup\n",
      "status from  192.168.1.4 hidup\n",
      "status from  192.168.1.5 hidup\n",
      "status from  192.168.1.6 hidup\n",
      "status from  192.168.1.7 hidup\n",
      "status from  192.168.1.8 hidup\n",
      "status from  192.168.1.9 hidup\n",
      "status from  192.168.1.10 hidup\n",
      "status from  192.168.1.11 hidup\n",
      "status from  192.168.1.12 hidup\n",
      "status from  192.168.1.13 hidup\n",
      "status from  192.168.1.14 hidup\n",
      "status from  192.168.1.15 hidup\n",
      "status from  192.168.1.16 hidup\n",
      "status from  192.168.1.17 hidup\n",
      "status from  192.168.1.18 hidup\n",
      "status from  192.168.1.19 hidup\n",
      "6.474973917007446\n"
     ]
    }
   ],
   "source": [
    "# untuk setiap IP yang ada di list\n",
    "for el in check_results:\n",
    "    # tunggu hingga thread selesai\n",
    "    el.join()\n",
    "    \n",
    "    # dapatkan hasilnya\n",
    "    print(\"status from \", el.ip,el.status())\n",
    "\n",
    "# catat waktu berakhir\n",
    "waktu_selesai = time.time()\n",
    "\n",
    "# tampilkan selisih waktu akhir dan awal\n",
    "print (waktu_selesai-waktu_awal)"
   ]
  },
  {
   "cell_type": "code",
   "execution_count": null,
   "metadata": {},
   "outputs": [],
   "source": []
  }
 ],
 "metadata": {
  "kernelspec": {
   "display_name": "Python 3",
   "language": "python",
   "name": "python3"
  },
  "language_info": {
   "codemirror_mode": {
    "name": "ipython",
    "version": 3
   },
   "file_extension": ".py",
   "mimetype": "text/x-python",
   "name": "python",
   "nbconvert_exporter": "python",
   "pygments_lexer": "ipython3",
   "version": "3.7.3"
  }
 },
 "nbformat": 4,
 "nbformat_minor": 2
}
