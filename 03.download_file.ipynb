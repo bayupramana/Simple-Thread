{
 "cells": [
  {
   "cell_type": "code",
   "execution_count": 6,
   "metadata": {},
   "outputs": [],
   "source": [
    "import os\n",
    "import requests\n",
    "import threading\n",
    "import urllib.request, urllib.error, urllib.parse\n",
    "import time\n",
    "\n",
    "url = \"https://apod.nasa.gov/apod/image/1901/LOmbradellaTerraFinazzi.jpg\""
   ]
  },
  {
   "cell_type": "code",
   "execution_count": 7,
   "metadata": {},
   "outputs": [],
   "source": [
    "# fungsi mensplit  data yang akan di download\n",
    "def buildRange(value, numsplits):\n",
    "    # mendifine array lst\n",
    "    lst = []\n",
    "    # perulangan dari i hingga numsplits\n",
    "    for i in range(numsplits):\n",
    "        # jika i == 0 atau iterasi pertama\n",
    "        if i == 0:\n",
    "            lst.append('%s-%s' % (i, int(round(1 + i * value/(numsplits*1.0) + value/(numsplits*1.0)-1, 0))))\n",
    "        # iterasi berikutnya\n",
    "        else:\n",
    "            lst.append('%s-%s' % (int(round(1 + i * value/(numsplits*1.0),0)), int(round(1 + i * value/(numsplits*1.0) + value/(numsplits*1.0)-1, 0))))\n",
    "    return lst"
   ]
  },
  {
   "cell_type": "code",
   "execution_count": 8,
   "metadata": {},
   "outputs": [],
   "source": [
    "# memisahkan buffer sesuai dengan jumlah thread yang ada\n",
    "class SplitBufferThreads(threading.Thread):\n",
    "    \"\"\" Splits the buffer to ny number of threads\n",
    "        thereby, concurrently downloading through\n",
    "        ny number of threads.\n",
    "    \"\"\"\n",
    "    def __init__(self, url, byteRange):\n",
    "        super(SplitBufferThreads, self).__init__()\n",
    "        self.__url = url\n",
    "        self.__byteRange = byteRange\n",
    "        self.req = None\n",
    "\n",
    "    def run(self):\n",
    "        self.req = urllib.request.Request(self.__url,  headers={'Range': 'bytes=%s' % self.__byteRange})\n",
    "\n",
    "    def getFileData(self):\n",
    "        return urllib.request.urlopen(self.req).read()"
   ]
  },
  {
   "cell_type": "code",
   "execution_count": 9,
   "metadata": {},
   "outputs": [],
   "source": [
    "# main function dilakukan split sebanyak 3 buah\n",
    "def main(url=None, splitBy=3):\n",
    "    #waktu mulai\n",
    "    start_time = time.time()\n",
    "    \n",
    "    # jika url yang dimasukan tidak valid\n",
    "    if not url:\n",
    "        print(\"Please Enter some url to begin download.\")\n",
    "        return\n",
    "    \n",
    "    # menamai file dengan url setelah slash terakhir\n",
    "    fileName = url.split('/')[-1]\n",
    "    \n",
    "    # menghitung size dalam byte pada gambar\n",
    "    sizeInBytes = requests.head(url, headers={'Accept-Encoding': 'identity'}).headers.get('content-length', None)\n",
    "    # tampilkan sizeInBytes nya\n",
    "    print(\"%s bytes to download.\" % sizeInBytes)\n",
    "    \n",
    "    # jika bukan byte yang disimpan\n",
    "    if not sizeInBytes:\n",
    "        print(\"Size cannot be determined.\")\n",
    "        return\n",
    "    \n",
    "    # mendifine array dataLst\n",
    "    dataLst = []\n",
    "    # melakukan perulangan dari i sampai splitBy=3\n",
    "    for idx in range(splitBy):\n",
    "        # menentukan byte range dari gambar yang akan di download\n",
    "        byteRange = buildRange(int(sizeInBytes), splitBy)[idx]\n",
    "        \n",
    "        # mensplit buffer thread berdasarkan url dan byteRange\n",
    "        bufTh = SplitBufferThreads(url, byteRange)\n",
    "        \n",
    "        # start buffer\n",
    "        bufTh.start()\n",
    "        \n",
    "        #join buffer\n",
    "        bufTh.join()\n",
    "        \n",
    "        #memasukan file yang akan di download ke dataLst\n",
    "        dataLst.append(bufTh.getFileData())\n",
    "\n",
    "    content = b''.join(dataLst)\n",
    "    # cek apakah dataLst berisi data\n",
    "    if dataLst:\n",
    "        # cek keberadaan file dengan menggunakan os\n",
    "        if os.path.exists(fileName):\n",
    "            #remove file dari os\n",
    "            os.remove(fileName)\n",
    "        # tampilkan jangka waktu download\n",
    "        print(\"--- %s seconds ---\" % str(time.time() - start_time))\n",
    "        # write file yang sudah di download ke dalam komputer\n",
    "        with open(fileName, 'wb') as fh:\n",
    "            fh.write(content)\n",
    "        # tampilkan bahwa berhasi me write file\n",
    "        print(\"Finished Writing file %s\" % fileName)"
   ]
  },
  {
   "cell_type": "code",
   "execution_count": 10,
   "metadata": {
    "scrolled": true
   },
   "outputs": [
    {
     "name": "stdout",
     "output_type": "stream",
     "text": [
      "3670260 bytes to download.\n",
      "--- 34.71994137763977 seconds ---\n",
      "Finished Writing file LOmbradellaTerraFinazzi.jpg\n"
     ]
    }
   ],
   "source": [
    "#panggil fungsi utama\n",
    "if __name__ == '__main__':\n",
    "    main(url)"
   ]
  },
  {
   "cell_type": "code",
   "execution_count": null,
   "metadata": {},
   "outputs": [],
   "source": []
  }
 ],
 "metadata": {
  "kernelspec": {
   "display_name": "Python 3",
   "language": "python",
   "name": "python3"
  },
  "language_info": {
   "codemirror_mode": {
    "name": "ipython",
    "version": 3
   },
   "file_extension": ".py",
   "mimetype": "text/x-python",
   "name": "python",
   "nbconvert_exporter": "python",
   "pygments_lexer": "ipython3",
   "version": "3.7.3"
  }
 },
 "nbformat": 4,
 "nbformat_minor": 2
}
