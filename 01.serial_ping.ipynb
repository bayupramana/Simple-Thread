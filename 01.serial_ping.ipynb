{
 "cells": [
  {
   "cell_type": "code",
   "execution_count": 1,
   "metadata": {},
   "outputs": [],
   "source": [
    "# import library os (untuk melakukan perintah ping)\n",
    "# import library re (untuk melakukan filtering/regex)\n",
    "import os, re\n",
    "\n",
    "# import library time untuk mengukur waktu\n",
    "import time"
   ]
  },
  {
   "cell_type": "code",
   "execution_count": 2,
   "metadata": {},
   "outputs": [],
   "source": [
    "# ambil waktu awal menggunakan time.time()\n",
    "start = time.time()"
   ]
  },
  {
   "cell_type": "code",
   "execution_count": 3,
   "metadata": {},
   "outputs": [],
   "source": [
    "# gunakan regex filter t\"Received = (\\d)\n",
    "# regex ini digunakan untuk mencari kata \"Received = x\" x adalah angka (\\d)\n",
    "received_packages = re.compile(r\"Received = (\\d)\")"
   ]
  },
  {
   "cell_type": "code",
   "execution_count": 4,
   "metadata": {},
   "outputs": [],
   "source": [
    "\"\"\"\n",
    "windows:\n",
    "ping x.x.x.x -n 2\n",
    "received_packages = re.compile(r\"Received = (\\d)\")\n",
    "melihat Received = xxx (desimal)\n",
    "\n",
    "Pinging 10.30.32.16 with 32 bytes of data:\n",
    "Reply from 10.30.32.16: bytes=32 time<1ms TTL=128\n",
    "Reply from 10.30.32.16: bytes=32 time<1ms TTL=128\n",
    "\n",
    "Ping statistics for 10.30.32.16:\n",
    "    Packets: Sent = 2, Received = 2, Lost = 0 (0% loss),\n",
    "Approximate round trip times in milli-seconds:\n",
    "    Minimum = 0ms, Maximum = 0ms, Average = 0ms\n",
    "\"\"\"\n",
    "# lihat 3 baris paling bawah dari hasil ping\n",
    "# terdapat baris: Packets: Sent = 2, Received = 2, Lost = 0 (0% loss),\n",
    "# yang dilihat adalah jumlah Received. Kebetulan hasilnya adalah 2\n",
    "# pada ping x.x.x.x -n 2 artinya dilakukan ping sebanyak 2 kali\n",
    "# jika received = 0 maka host mati\n",
    "# jika received = 1 maka host hidup tetapi ada ping yang hilang\n",
    "# jika received = 2 maka host hidup\n",
    "status = (\"tidak ada respon\",\"hidup tetapi ada yang hilang\",\"hidup\")\n"
   ]
  },
  {
   "cell_type": "code",
   "execution_count": 6,
   "metadata": {},
   "outputs": [
    {
     "name": "stdout",
     "output_type": "stream",
     "text": [
      "('... pinging ', '192.168.1.1')\n",
      "192.168.1.1: hidup\n",
      "('... pinging ', '192.168.1.2')\n",
      "192.168.1.2: hidup\n",
      "('... pinging ', '192.168.1.3')\n",
      "192.168.1.3: hidup\n",
      "('... pinging ', '192.168.1.4')\n",
      "192.168.1.4: tidak ada respon\n",
      "('... pinging ', '192.168.1.5')\n",
      "192.168.1.5: hidup\n",
      "('... pinging ', '192.168.1.6')\n",
      "192.168.1.6: hidup\n",
      "('... pinging ', '192.168.1.7')\n",
      "192.168.1.7: hidup\n",
      "('... pinging ', '192.168.1.8')\n",
      "192.168.1.8: hidup\n",
      "('... pinging ', '192.168.1.9')\n",
      "192.168.1.9: hidup\n",
      "('... pinging ', '192.168.1.10')\n",
      "192.168.1.10: hidup\n",
      "('... pinging ', '192.168.1.11')\n",
      "192.168.1.11: hidup\n",
      "('... pinging ', '192.168.1.12')\n",
      "192.168.1.12: hidup\n",
      "('... pinging ', '192.168.1.13')\n",
      "192.168.1.13: hidup\n",
      "('... pinging ', '192.168.1.14')\n",
      "192.168.1.14: hidup\n",
      "('... pinging ', '192.168.1.15')\n",
      "192.168.1.15: hidup\n",
      "('... pinging ', '192.168.1.16')\n",
      "192.168.1.16: hidup\n",
      "('... pinging ', '192.168.1.17')\n",
      "192.168.1.17: hidup\n",
      "('... pinging ', '192.168.1.18')\n",
      "192.168.1.18: hidup\n",
      "('... pinging ', '192.168.1.19')\n",
      "192.168.1.19: hidup\n",
      "127.64043307304382\n"
     ]
    }
   ],
   "source": [
    "# lakukan ping untuk 20 host\n",
    "for suffix in range(1,20):\n",
    "    # tentukan IP yang akan diping, hanya akan diubah bagian akhirnya\n",
    "    ip = \"192.168.1.\"+str(suffix)\n",
    "    \n",
    "    # lakukan ping -n 2\n",
    "    ping_out = os.popen(\"ping -n 2 \"+ip,\"r\")\n",
    "    print((\"... pinging \",ip))\n",
    "\n",
    "    # loop forever\n",
    "    while True:\n",
    "        # baca hasil dari perintah ping per line\n",
    "        line = ping_out.readline()\n",
    "        \n",
    "        # akan keluar dari loop jika tidak ada lagi line\n",
    "        if not line: break\n",
    "        \n",
    "        # lakukan filtering dengan regex. gunakan findall dan regex filter yang sudah ditentukan\n",
    "        n_received = received_packages.findall(line)\n",
    "        \n",
    "        # tampilkan hasil regex untuk mengetahui banyaknya respon ping yang diperoleh \n",
    "        if n_received:\n",
    "            print((ip + \": \" + status[int(n_received[0])]))\n",
    "            \n",
    "# ambil waktu berakhir\n",
    "end = time.time()\n",
    "\n",
    "# tampilkan selisih waktu akhir dengan awal untuk mengetahui lama waktu eksekusi\n",
    "print((end-start))"
   ]
  },
  {
   "cell_type": "code",
   "execution_count": null,
   "metadata": {},
   "outputs": [],
   "source": []
  }
 ],
 "metadata": {
  "kernelspec": {
   "display_name": "Python 3",
   "language": "python",
   "name": "python3"
  },
  "language_info": {
   "codemirror_mode": {
    "name": "ipython",
    "version": 3
   },
   "file_extension": ".py",
   "mimetype": "text/x-python",
   "name": "python",
   "nbconvert_exporter": "python",
   "pygments_lexer": "ipython3",
   "version": "3.7.3"
  }
 },
 "nbformat": 4,
 "nbformat_minor": 2
}
